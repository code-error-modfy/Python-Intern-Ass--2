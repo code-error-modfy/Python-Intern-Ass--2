{
 "cells": [
  {
   "cell_type": "code",
   "execution_count": 2,
   "id": "30aeb57d",
   "metadata": {},
   "outputs": [
    {
     "name": "stdout",
     "output_type": "stream",
     "text": [
      "\n",
      "Student Management System\n",
      "1. Add Student\n",
      "2. Remove Student\n",
      "3. Display Students\n",
      "4. Quit\n",
      "Enter your choice: 1\n",
      "Enter the student's name: ram\n",
      "ram has been added to the list.\n",
      "\n",
      "Student Management System\n",
      "1. Add Student\n",
      "2. Remove Student\n",
      "3. Display Students\n",
      "4. Quit\n",
      "Enter your choice: 1\n",
      "Enter the student's name: karthi\n",
      "karthi has been added to the list.\n",
      "\n",
      "Student Management System\n",
      "1. Add Student\n",
      "2. Remove Student\n",
      "3. Display Students\n",
      "4. Quit\n",
      "Enter your choice: 1\n",
      "Enter the student's name: suji\n",
      "suji has been added to the list.\n",
      "\n",
      "Student Management System\n",
      "1. Add Student\n",
      "2. Remove Student\n",
      "3. Display Students\n",
      "4. Quit\n",
      "Enter your choice: 3\n",
      "Student List:\n",
      "ram\n",
      "karthi\n",
      "suji\n",
      "\n",
      "Student Management System\n",
      "1. Add Student\n",
      "2. Remove Student\n",
      "3. Display Students\n",
      "4. Quit\n",
      "Enter your choice: 4\n"
     ]
    }
   ],
   "source": [
    "#1 week 2nd assignment\n",
    "def add_student(students):\n",
    "  name = input(\"Enter the student's name: \")\n",
    "  students.append(name)\n",
    "  print(f\"{name} has been added to the list.\")\n",
    "\n",
    "def remove_student(students):\n",
    "  name = input(\"Enter the student's name to remove: \")\n",
    "  if name in students:\n",
    "    students.remove(name)\n",
    "    print(f\"{name} has been removed from the list.\")\n",
    "  else:\n",
    "    print(f\"{name} is not in the list.\")\n",
    "\n",
    "def display_students(students):\n",
    "  print(\"Student List:\")\n",
    "  for student in students:\n",
    "    print(student)\n",
    "\n",
    "def main():\n",
    "  students = []\n",
    "  while True:\n",
    "    print(\"\\nStudent Management System\")\n",
    "    print(\"1. Add Student\")\n",
    "    print(\"2. Remove Student\")\n",
    "    print(\"3. Display Students\")\n",
    "    print(\"4. Quit\")\n",
    "    choice = int(input(\"Enter your choice: \"))\n",
    "\n",
    "    if choice == 1:\n",
    "      add_student(students)\n",
    "    elif choice == 2:\n",
    "      remove_student(students)\n",
    "    elif choice == 3:\n",
    "      display_students(students)\n",
    "    elif choice == 4:\n",
    "      break\n",
    "    else:\n",
    "      print(\"Invalid choice. Please try again.\")\n",
    "\n",
    "if __name__ == \"__main__\":\n",
    "  main()"
   ]
  },
  {
   "cell_type": "code",
   "execution_count": 4,
   "id": "a24f324e",
   "metadata": {},
   "outputs": [
    {
     "name": "stdout",
     "output_type": "stream",
     "text": [
      "{'the': 1, 'world': 1, 'is': 1, 'most': 1, 'beautiful': 1, 'flower': 1}\n"
     ]
    }
   ],
   "source": [
    "#2\n",
    "def count_word_frequency(text): \n",
    "    text = text.lower()\n",
    "    import string\n",
    "    text = text.translate(str.maketrans('', '', string.punctuation))\n",
    "    \n",
    "    words = text.split()\n",
    "    \n",
    "    word_frequency = {}\n",
    "    \n",
    "    for word in words:\n",
    "        if word in word_frequency:\n",
    "            word_frequency[word] += 1\n",
    "        else:\n",
    "            word_frequency[word] = 1\n",
    "\n",
    "    return word_frequency\n",
    "\n",
    "text = \"the world is most beautiful flower \"\n",
    "result = count_word_frequency(text)\n",
    "\n",
    "print(result)\n"
   ]
  },
  {
   "cell_type": "code",
   "execution_count": 11,
   "id": "ab7916c2",
   "metadata": {},
   "outputs": [
    {
     "name": "stdout",
     "output_type": "stream",
     "text": [
      "(2, 4, 6, 8, 10)\n"
     ]
    }
   ],
   "source": [
    "#3\n",
    "def filter_even_numbers(numbers):\n",
    "    \n",
    "    even_numb = tuple(num for num in numbers if num % 2 == 0)\n",
    "    return even_numb\n",
    "\n",
    "# Example usage\n",
    "input_tuple = (1, 2, 3, 4, 5, 6, 7, 8, 9, 10)\n",
    "result = filter_even_numbers(input_tuple)\n",
    "\n",
    "print(result)\n"
   ]
  },
  {
   "cell_type": "code",
   "execution_count": null,
   "id": "e7bcb374",
   "metadata": {},
   "outputs": [],
   "source": []
  }
 ],
 "metadata": {
  "kernelspec": {
   "display_name": "Python 3 (ipykernel)",
   "language": "python",
   "name": "python3"
  },
  "language_info": {
   "codemirror_mode": {
    "name": "ipython",
    "version": 3
   },
   "file_extension": ".py",
   "mimetype": "text/x-python",
   "name": "python",
   "nbconvert_exporter": "python",
   "pygments_lexer": "ipython3",
   "version": "3.10.13"
  }
 },
 "nbformat": 4,
 "nbformat_minor": 5
}
